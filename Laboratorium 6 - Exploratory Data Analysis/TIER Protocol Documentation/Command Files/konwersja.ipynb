{
 "cells": [
  {
   "cell_type": "markdown",
   "metadata": {},
   "source": [
    "## Marcin Piątek 400038 Lab 6\n"
   ]
  },
  {
   "cell_type": "markdown",
   "metadata": {},
   "source": [
    "### Import danych"
   ]
  },
  {
   "cell_type": "code",
   "execution_count": 1,
   "metadata": {},
   "outputs": [
    {
     "name": "stdout",
     "output_type": "stream",
     "text": [
      "<class 'pandas.core.frame.DataFrame'>\n",
      "RangeIndex: 466 entries, 0 to 465\n",
      "Data columns (total 5 columns):\n",
      " #   Column           Non-Null Count  Dtype  \n",
      "---  ------           --------------  -----  \n",
      " 0   Dni od zakupu    466 non-null    int64  \n",
      " 1   Marka            466 non-null    object \n",
      " 2   Wiek kupujcego   418 non-null    float64\n",
      " 3   Plec kupujacego  368 non-null    object \n",
      " 4   Ocena            466 non-null    float64\n",
      "dtypes: float64(2), int64(1), object(2)\n",
      "memory usage: 18.3+ KB\n"
     ]
    }
   ],
   "source": [
    "import pandas as pd\n",
    "data = pd.read_csv('../Original Data/12_swietokrzyskie.csv')\n",
    "\n",
    "data.drop(columns=['Unnamed: 0'], inplace=True)\n",
    "data['Płeć kupującego']=data['Płeć kupującego'].map({'bd.': None, \"M\":'M',\"K\":\"K\"})\n",
    "data.rename(columns={\"Płeć kupującego\":\"Plec kupujacego\",\"Wiek kupującego\":\"Wiek kupujcego\"}, inplace=True)\n",
    "data.head()\n",
    "data.info()"
   ]
  },
  {
   "cell_type": "markdown",
   "metadata": {},
   "source": [
    "## Zapis uporządkwaych danych"
   ]
  },
  {
   "cell_type": "code",
   "execution_count": 52,
   "metadata": {},
   "outputs": [],
   "source": [
    "data.dropna(inplace=True) \n",
    "data.to_csv('../Analysis Data/db_tidy.csv', index=False)"
   ]
  }
 ],
 "metadata": {
  "interpreter": {
   "hash": "33dc6d49505b4536b6a128d9d7c879e1fa44477ad44947bbbe73093067fe6393"
  },
  "kernelspec": {
   "display_name": "Python 3.9.7 64-bit",
   "name": "python3"
  },
  "language_info": {
   "codemirror_mode": {
    "name": "ipython",
    "version": 3
   },
   "file_extension": ".py",
   "mimetype": "text/x-python",
   "name": "python",
   "nbconvert_exporter": "python",
   "pygments_lexer": "ipython3",
   "version": "3.9.6"
  }
 },
 "nbformat": 4,
 "nbformat_minor": 5
}
