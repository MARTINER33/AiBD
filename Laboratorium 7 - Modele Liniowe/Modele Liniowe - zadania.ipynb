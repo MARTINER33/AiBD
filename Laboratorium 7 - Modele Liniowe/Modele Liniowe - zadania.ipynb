{
 "cells": [
  {
   "cell_type": "markdown",
   "metadata": {},
   "source": [
    "##  Regresja liniowa\n",
    "\n",
    "Regresja liniowa to tworzenie modeli przedstawiających wielkość, której wartość chcemy przewidzieć (zmienna zależna) jako kombinację liniową predyktorów (zmiennych zależnych).\n",
    "\n",
    "Struktura modelu ma postać\n",
    "\n",
    "$$\\tilde{y} = \\beta_0 + \\beta_1 x_1 + \\beta_2 x_2 +\\ldots+ \\beta_n x_n$$\n",
    "\n",
    "lub w formie macierzowej \n",
    "\n",
    "$$\\tilde{\\mathbf{y}} = \\mathbf{[1\\  X ]} \\beta$$\n",
    "\n",
    "gdzie wektor wartości zmiennych zależnych jest przewidywany na podstawie macierzy danych i wektora współczynników $\\beta$.\n",
    "\n",
    "Współczynnik $\\beta_0$ w nomentkalturze anglojęzycznej jest nazywany *intercept* ponieważ jest to punkt przecięcia się z osią $y$ gdy wszystkie predyktory są równe 0.\n",
    "\n",
    "Aby wyznaczyć parametry modelu liniowego potrzebujemy wektora danych uczących, tj. znanych nam wartości zmiennej zależnej  $\\mathbf{y}$ oraz odpowiadająxcej mu macierzy predyktorów $\\mathbf{X}$. Macierz predyktorów nosi nazwę *design matrix*, i bardzo użytyeczne do jej wyznaczenia (w oparciu o dane w forme dataframe) jest pakiet [patsy](https://patsy.readthedocs.io/en/latest/quickstart.html), a w szczególności funkcja ```dmatrices```.\n",
    "\n",
    "\n",
    "Model regresyjny ma mocne umocowanie statystyczne, jednak w ramach zajęć będziemy traktować go machinistycznie jak jedną z metod uczenia maszynowego. Do tworzenia takich modeli służy klasa ```LinearRegression```\n",
    "\n",
    "Do analizy regresji liniowej wykorzystywać będziemy pakiet ```scikit-learn``` oraz zawarte w nim klasy, głównie w modułach ```linear_model```, ```metrics``` oraz ```model_selection```. \n",
    "\n",
    "### Dane uczące i dane testowe\n",
    "\n",
    "Zazwyczaj rozwiązując problem nie mamy dostępu do dodatkowych danych testowych uzupełniających nasze dane uczące. Dlatego też, popularną praktyką jest podzielenie posiadanego zbioru danych w sposób losowy na dwa zbiory: uczący i testowy. Do tego służy funkcja ```train_test_split``` z modułu ```model_selection```. \n",
    "\n"
   ]
  },
  {
   "cell_type": "markdown",
   "metadata": {},
   "source": [
    "### Zadanie 1\n",
    "Na podstawie danych zawartych w pliku SCORES.csv wykonaj i oceń regresję liniową, gdzie Twoją daną niezależną (predyktorem) będą godziny poświęcone na przygotowanie, a wynikową uzyskane punkty. Wykonanie zadania powinno składać się z następujących kroków:\n",
    "1. Zaimportowanie niezbędnych bibliotek w szczególności tych tworzących modele liniowe z \"scikit-learn\", a także biblioteki do operacji na danych oraz tworzenia wykresów.\n",
    "2. Odczytaj dane z pliku SCORES.csv. Pomocne w interpretacji danych są metody: head(), describe(), shape.\n",
    "3. Wykonaj wstępny wykres uzyskanych danych (typu \"scatter\")\n",
    "4. Dokonaj podziału danych na zbiory danych niezależnych (wejściowe, X) oraz zaleznych (wyjściowe, y) dla swojego modelu, a następnie podziel zbiór na dane testowe i treningowe (30%)\n",
    "5. Utwróz model regresji liniowej za pomocą sklearn.\n",
    "6. Wypisz i przeanalizuj wyliczone wskaźniki dla modelu: coef_ oraz intercept_. Czym one są i do czego służą?\n",
    "7. Wykorzystając stworozny model dokonaj predykcji dla części testowej X. Porównaj wynik (y_pred) z posiadanymi danymi (y_test).\n",
    "8. Wykonaj wykres konfrontujący dane testowe (X_test, y_test; typu \"scatter\") oraz predykcje (X_test, y_pred; linia prosta)\n",
    "9. Dokonaj walidacji uzyskanych predykcji wykorzystując metryki: średni błąd bezwzględny (Mean Absolute Error), błąd średniokwadratowy (Mean Squared Error) oraz pierwiastek błędu średniokwadratowego (Root Mean Squared Error).\n",
    "\n",
    "Następnie utworzony skrypt wykorzystaj na danych zawartych w SBP.csv, gdzie predyktorem będzie wiek, a wynikiem ciśnienie (SBP). Czy uzyskane wyniki z modelu są równie zadowalające?"
   ]
  },
  {
   "cell_type": "code",
   "execution_count": 33,
   "metadata": {},
   "outputs": [
    {
     "name": "stdout",
     "output_type": "stream",
     "text": [
      "   Hours  Scores\n",
      "0    2.5      21\n",
      "1    5.1      47\n",
      "2    3.2      27\n",
      "3    8.5      75\n",
      "4    3.5      30\n",
      "           Hours     Scores\n",
      "count  25.000000  25.000000\n",
      "mean    5.012000  51.480000\n",
      "std     2.525094  25.286887\n",
      "min     1.100000  17.000000\n",
      "25%     2.700000  30.000000\n",
      "50%     4.800000  47.000000\n",
      "75%     7.400000  75.000000\n",
      "max     9.200000  95.000000\n"
     ]
    },
    {
     "data": {
      "image/png": "[encoded data removed]",
      "text/plain": [
       "<Figure size 432x288 with 1 Axes>"
      ]
     },
     "metadata": {
      "needs_background": "light"
     },
     "output_type": "display_data"
    }
   ],
   "source": [
    "import numpy as np\n",
    "import pandas as pd\n",
    "import matplotlib.pyplot as plt\n",
    "from sklearn.model_selection import train_test_split\n",
    "from sklearn.svm import SVC\n",
    "from sklearn.metrics import plot_roc_curve\n",
    "from sklearn.ensemble import RandomForestClassifier\n",
    "from sklearn.datasets import make_classification\n",
    "from sklearn import linear_model\n",
    "\n",
    "data = pd.read_csv('SCORES.csv')\n",
    "print(data.head())\n",
    "print(data.describe())\n",
    "plt.scatter(data['Hours'],data['Scores'])\n",
    "plt.show()"
   ]
  },
  {
   "cell_type": "code",
   "execution_count": 34,
   "metadata": {},
   "outputs": [
    {
     "name": "stdout",
     "output_type": "stream",
     "text": [
      "coefficients:  [[9.63871553]]\n",
      "intercept:  [3.49588615]\n"
     ]
    }
   ],
   "source": [
    "X = data['Hours']\n",
    "y = data['Scores']\n",
    "y=np.array(y)\n",
    "X=np.array(X)\n",
    "\n",
    "X_train, X_test, y_train, y_test = train_test_split(X, y, random_state=30)\n",
    "\n",
    "X_train=X_train.reshape(-1, 1)\n",
    "y_train=y_train.reshape(-1, 1)\n",
    "X_test=X_test.reshape(-1, 1)\n",
    "y_test=y_test.reshape(-1, 1)\n",
    "\n",
    "reg = linear_model.LinearRegression()\n",
    "reg.fit(X_train, y_train)\n",
    "print('coefficients: ',reg.coef_)\n",
    "print('intercept: ', reg.intercept_)\n"
   ]
  },
  {
   "cell_type": "markdown",
   "metadata": {},
   "source": [
    "## Wspołczynnik intercept to wartość predyktora liniowego, gdzy wszystkie zmienne wynoszą 0. W regresii liniownej jest to równoznaczne z przeciemem Y z linią dopasowania\n",
    "## Współczynnik coefficients wskazuje kierunek relacji między zmienną predykcyjną, a zmienną odpowiedzi. Znak dodatni wskazuje, że gdy zmienna predykcyjna y wzrasta, zmienna odpowiedzi X również wzrasta.\n"
   ]
  },
  {
   "cell_type": "code",
   "execution_count": 35,
   "metadata": {},
   "outputs": [
    {
     "name": "stdout",
     "output_type": "stream",
     "text": [
      "zbior testowy\n",
      "[[85]\n",
      " [30]\n",
      " [69]\n",
      " [21]\n",
      " [76]\n",
      " [88]\n",
      " [30]]\n",
      "predykcja\n",
      "[[77.71399572]\n",
      " [27.59267497]\n",
      " [74.82238107]\n",
      " [27.59267497]\n",
      " [70.0030233 ]\n",
      " [92.17206902]\n",
      " [37.2313905 ]]\n",
      "różnica\n",
      "[[ 7.28600428]\n",
      " [ 2.40732503]\n",
      " [-5.82238107]\n",
      " [-6.59267497]\n",
      " [ 5.9969767 ]\n",
      " [-4.17206902]\n",
      " [-7.2313905 ]]\n"
     ]
    }
   ],
   "source": [
    "y_pred = reg.predict(X_test.reshape(-1, 1))\n",
    "print(\"zbior testowy\")\n",
    "print(y_test)\n",
    "print(\"predykcja\")\n",
    "print(y_pred)\n",
    "print(\"różnica\")\n",
    "print(y_test - y_pred)"
   ]
  },
  {
   "cell_type": "code",
   "execution_count": 36,
   "metadata": {},
   "outputs": [
    {
     "data": {
      "image/png": "[encoded data removed]",
      "text/plain": [
       "<Figure size 432x288 with 1 Axes>"
      ]
     },
     "metadata": {
      "needs_background": "light"
     },
     "output_type": "display_data"
    }
   ],
   "source": [
    "plt.figure()\n",
    "plt.scatter(X_test, y_test)\n",
    "plt.plot(X_test, y_pred, 'r')\n",
    "plt.xlabel('Hours')\n",
    "plt.ylabel('Scores')\n",
    "plt.legend(['predykcja', 'test'])\n",
    "plt.show()"
   ]
  },
  {
   "cell_type": "code",
   "execution_count": 37,
   "metadata": {},
   "outputs": [
    {
     "name": "stdout",
     "output_type": "stream",
     "text": [
      "błąd średniokwadratowy:  34.558207812124145\n",
      "średni błąd kwadratowy:  5.644117365779314\n",
      "śpierwiastek błędu średniokwadratowego:  5.878622952029169\n"
     ]
    }
   ],
   "source": [
    "from sklearn.metrics import mean_squared_error\n",
    "from sklearn.metrics import mean_absolute_error\n",
    "\n",
    "print(\"błąd średniokwadratowy: \", mean_squared_error(y_test, y_pred))\n",
    "print(\"średni błąd kwadratowy: \", mean_absolute_error(y_test, y_pred))\n",
    "print(\"śpierwiastek błędu średniokwadratowego: \", np.sqrt(mean_squared_error(y_test, y_pred)))\n"
   ]
  },
  {
   "cell_type": "markdown",
   "metadata": {},
   "source": [
    "### Otrzymane wyniki nie są na zawalającym poziomie ponieważ wartości poszczególnych typów błędów są na wysokim poziomie. Wynika to z średniej jakości danych wejściowych do nauki modelu."
   ]
  },
  {
   "cell_type": "markdown",
   "metadata": {},
   "source": [
    "# Drugi zbiór danych "
   ]
  },
  {
   "cell_type": "code",
   "execution_count": 38,
   "metadata": {},
   "outputs": [
    {
     "name": "stdout",
     "output_type": "stream",
     "text": [
      "   Age  SBP\n",
      "0   60  117\n",
      "1   61  120\n",
      "2   74  145\n",
      "3   57  129\n",
      "4   63  132\n",
      "             Age         SBP\n",
      "count  19.000000   19.000000\n",
      "mean   64.947368  129.421053\n",
      "std     7.214751   13.454928\n",
      "min    54.000000  111.000000\n",
      "25%    60.500000  119.000000\n",
      "50%    63.000000  129.000000\n",
      "75%    68.500000  137.000000\n",
      "max    79.000000  163.000000\n"
     ]
    },
    {
     "data": {
      "image/png": "[encoded data removed]",
      "text/plain": [
       "<Figure size 432x288 with 1 Axes>"
      ]
     },
     "metadata": {
      "needs_background": "light"
     },
     "output_type": "display_data"
    }
   ],
   "source": [
    "data = pd.read_csv('SBP.csv')\n",
    "print(data.head(5))\n",
    "print(data.describe())\n",
    "plt.scatter(data['Age'], data['SBP'])\n",
    "plt.title(\"DATA SBP\")\n",
    "plt.xlabel('Age')\n",
    "plt.ylabel('SBP')\n",
    "plt.show()"
   ]
  },
  {
   "cell_type": "code",
   "execution_count": 39,
   "metadata": {},
   "outputs": [
    {
     "name": "stdout",
     "output_type": "stream",
     "text": [
      "coefficients:  [[1.4582266]]\n",
      "intercept:  [35.04857143]\n"
     ]
    }
   ],
   "source": [
    "x = data['Age'].to_numpy()\n",
    "y = data['SBP'].to_numpy()\n",
    "\n",
    "X_train, X_test, y_train, y_test = train_test_split(x, y, test_size=0.30, random_state=30)\n",
    "\n",
    "X_train=X_train.reshape(-1, 1)\n",
    "y_train=y_train.reshape(-1, 1)\n",
    "X_test=X_test.reshape(-1, 1)\n",
    "y_test=y_test.reshape(-1, 1)\n",
    "\n",
    "reg = linear_model.LinearRegression()\n",
    "reg.fit(X_train, y_train)\n",
    "print('coefficients: ',reg.coef_)\n",
    "print('intercept: ', reg.intercept_)\n"
   ]
  },
  {
   "cell_type": "code",
   "execution_count": 40,
   "metadata": {},
   "outputs": [
    {
     "name": "stdout",
     "output_type": "stream",
     "text": [
      "zbior testowy\n",
      "[[118]\n",
      " [117]\n",
      " [147]\n",
      " [132]\n",
      " [136]\n",
      " [127]]\n",
      "predykcja\n",
      "[[126.91684729]\n",
      " [122.54216749]\n",
      " [129.83330049]\n",
      " [145.8737931 ]\n",
      " [126.91684729]\n",
      " [131.29152709]]\n",
      "różnica\n",
      "[[ -8.91684729]\n",
      " [ -5.54216749]\n",
      " [ 17.16669951]\n",
      " [-13.8737931 ]\n",
      " [  9.08315271]\n",
      " [ -4.29152709]]\n"
     ]
    }
   ],
   "source": [
    "y_pred = reg.predict(X_test.reshape(-1, 1))\n",
    "print(\"zbior testowy\")\n",
    "print(y_test)\n",
    "print(\"predykcja\")\n",
    "print(y_pred)\n",
    "print(\"różnica\")\n",
    "print(y_test - y_pred)"
   ]
  },
  {
   "cell_type": "code",
   "execution_count": 41,
   "metadata": {},
   "outputs": [
    {
     "data": {
      "image/png": "[encoded data removed]",
      "text/plain": [
       "<Figure size 432x288 with 1 Axes>"
      ]
     },
     "metadata": {
      "needs_background": "light"
     },
     "output_type": "display_data"
    },
    {
     "name": "stdout",
     "output_type": "stream",
     "text": [
      "błąd średniokwadratowy:  116.38739350950851\n",
      "średni błąd kwadratowy:  9.812364532019709\n",
      "śpierwiastek błędu średniokwadratowego:  10.78829891639588\n"
     ]
    }
   ],
   "source": [
    "plt.figure()\n",
    "plt.scatter(X_test, y_test)\n",
    "plt.plot(X_test, y_pred, 'r')\n",
    "plt.xlabel('Hours')\n",
    "plt.ylabel('Scores')\n",
    "plt.legend(['predykcja', 'test'])\n",
    "plt.show()\n",
    "\n",
    "print(\"błąd średniokwadratowy: \", mean_squared_error(y_test, y_pred))\n",
    "print(\"średni błąd kwadratowy: \", mean_absolute_error(y_test, y_pred))\n",
    "print(\"śpierwiastek błędu średniokwadratowego: \", np.sqrt(mean_squared_error(y_test, y_pred)))"
   ]
  },
  {
   "cell_type": "markdown",
   "metadata": {},
   "source": [
    "### Otrzymane wyniki nie są na zawalającym poziomie ponieważ wartości poszczególnych typów błędów są na wysokim poziomie. Wynika to z niskiej jakości danych wejściowych do nauki modelu."
   ]
  },
  {
   "cell_type": "markdown",
   "metadata": {},
   "source": [
    "### Zadanie 2\n",
    "Na podstawie danych zawartych w pliku PETROL.csv wykonaj i oceń regresję liniową. Jako daną zależną wykorzystaj zużycie paliwa, a pozostałe - jako predyktory. Wykonanie zadania powinno składać się z kroków podobnych do tych z zadania poprzedniego.\n",
    "\n",
    "Czy uzyskane wyniki predykcji modelu są dobre? Co mogło mieć pozytywny/negatywny wpływ na taki wynik?"
   ]
  },
  {
   "cell_type": "code",
   "execution_count": 42,
   "metadata": {},
   "outputs": [
    {
     "name": "stdout",
     "output_type": "stream",
     "text": [
      "   Podatek_paliwowy  Sredni_przychod  Utwardzone_autostrady  \\\n",
      "0               9.0             3571                   1976   \n",
      "1               9.0             4092                   1250   \n",
      "2               9.0             3865                   1586   \n",
      "3               7.5             4870                   2351   \n",
      "4               8.0             4399                    431   \n",
      "\n",
      "   Procent_ludnosci_z_prawem_jazdy  Zuzycie_paliwa  \n",
      "0                            0.525             541  \n",
      "1                            0.572             524  \n",
      "2                            0.580             561  \n",
      "3                            0.529             414  \n",
      "4                            0.544             410  \n",
      "       Podatek_paliwowy  Sredni_przychod  Utwardzone_autostrady  \\\n",
      "count         48.000000        48.000000              48.000000   \n",
      "mean           7.668333      4241.833333            5565.416667   \n",
      "std            0.950770       573.623768            3491.507166   \n",
      "min            5.000000      3063.000000             431.000000   \n",
      "25%            7.000000      3739.000000            3110.250000   \n",
      "50%            7.500000      4298.000000            4735.500000   \n",
      "75%            8.125000      4578.750000            7156.000000   \n",
      "max           10.000000      5342.000000           17782.000000   \n",
      "\n",
      "       Procent_ludnosci_z_prawem_jazdy  Zuzycie_paliwa  \n",
      "count                        48.000000       48.000000  \n",
      "mean                          0.570333      576.770833  \n",
      "std                           0.055470      111.885816  \n",
      "min                           0.451000      344.000000  \n",
      "25%                           0.529750      509.500000  \n",
      "50%                           0.564500      568.500000  \n",
      "75%                           0.595250      632.750000  \n",
      "max                           0.724000      968.000000  \n",
      "(48, 5)\n"
     ]
    }
   ],
   "source": [
    "data = pd.read_csv('PETROL.csv')\n",
    "print(data.head(5))\n",
    "print(data.describe())\n",
    "print(data.shape)"
   ]
  },
  {
   "cell_type": "code",
   "execution_count": 43,
   "metadata": {},
   "outputs": [],
   "source": [
    "x = data.drop(['Zuzycie_paliwa'], axis=1).to_numpy()\n",
    "y = data['Zuzycie_paliwa'].to_numpy()\n",
    "\n",
    "X_train, X_test, y_train, y_test = train_test_split(x, y, test_size=0.30, random_state=42)"
   ]
  },
  {
   "cell_type": "code",
   "execution_count": 44,
   "metadata": {},
   "outputs": [
    {
     "name": "stdout",
     "output_type": "stream",
     "text": [
      "coefficients:  [-3.99336011e+01 -4.53815410e-02 -4.95597538e-03  1.03711642e+03]\n",
      "intercept:  513.1398382048172\n"
     ]
    }
   ],
   "source": [
    "reg = linear_model.LinearRegression()\n",
    "reg.fit(X_train, y_train)\n",
    "print('coefficients: ',reg.coef_)\n",
    "print('intercept: ', reg.intercept_)"
   ]
  },
  {
   "cell_type": "code",
   "execution_count": 45,
   "metadata": {},
   "outputs": [
    {
     "name": "stdout",
     "output_type": "stream",
     "text": [
      "zbior testowy\n",
      "[631 587 577 591 460 704 525 640 410 566 464 414 344 968 628]\n",
      "predykcja\n",
      "[594.68473673 657.94626287 578.77796233 577.56584838 524.60050741\n",
      " 632.85908374 575.96166242 649.04536273 556.09293684 525.54298676\n",
      " 497.98650117 529.61281259 361.20860179 714.01098433 608.17110324]\n",
      "różnica\n",
      "[  36.31526327  -70.94626287   -1.77796233   13.43415162  -64.60050741\n",
      "   71.14091626  -50.96166242   -9.04536273 -146.09293684   40.45701324\n",
      "  -33.98650117 -115.61281259  -17.20860179  253.98901567   19.82889676]\n",
      "\n",
      "błąd średniokwadratowy:  8076.669020354776\n",
      "średni błąd kwadratowy:  63.026524465575235\n",
      "śpierwiastek błędu średniokwadratowego:  89.87028997591348\n",
      "\n",
      "\n"
     ]
    }
   ],
   "source": [
    "y_pred = reg.predict(X_test)\n",
    "print(\"zbior testowy\")\n",
    "print(y_test)\n",
    "print(\"predykcja\")\n",
    "print(y_pred)\n",
    "print(\"różnica\")\n",
    "print(y_test - y_pred)\n",
    "print()\n",
    "print(\"błąd średniokwadratowy: \", mean_squared_error(y_test, y_pred))\n",
    "print(\"średni błąd kwadratowy: \", mean_absolute_error(y_test, y_pred))\n",
    "print(\"śpierwiastek błędu średniokwadratowego: \", np.sqrt(mean_squared_error(y_test, y_pred)))\n",
    "print()\n",
    "print()\n"
   ]
  },
  {
   "cell_type": "markdown",
   "metadata": {},
   "source": [
    "### Uzyskany model nie jest dobrej jakości, błędy są bardzo duże. Wynika to z bardzo rozrzuconych danych i trudności dopasowania linii regresji. "
   ]
  },
  {
   "cell_type": "markdown",
   "metadata": {},
   "source": [
    "### Regresja logistyczna\n",
    "\n",
    "Naturalnym rozwojem modeli linowych, są uogólnione modele liniowe (*generalized linear models*). \n",
    "\n",
    "Ich przewodnią ideą jest to, że zamiast reprezentować zmienną zależną jako kombinację liniową niezależnych, staramy się stworzyć model liniowy pewnej funkcji zmiennej zależnej.\n",
    "\n",
    "$$ f(y) =  \\beta_0 + \\beta_1 x_1 + \\beta_2 x_2 +\\ldots+ \\beta_n x_n$$\n",
    "\n",
    "wymaga się, aby funkcja ta była odwracalna, dzięki czemu \n",
    "\n",
    "$$ y = f^{-1} ( \\beta_0 + \\beta_1 x_1 + \\beta_2 x_2 +\\ldots+ \\beta_n x_n)$$\n",
    "\n",
    "Takie przekształcenie stosujemy wtedy, gdy zbiór wartości zmiennej zależnej nie jest całym zbiorem liczb rzeczywistych tylko jest w jakiś sposób ograniczony. Na przykład do przedziału $[0,1]$, do wartości dodatnich lub wartości całkowitych. W tens posób można wybrać funkcję $f$, której dziedziną jest zbiór wartości $y$ zaś obrazem jest zbiór liczb rzeczywistych.\n",
    "\n",
    "Jedną z takich funkcji jest tzw. funkcja logistyczna, która odpowiada zbiorowi $[0,1]$ przez co często jest wykorzystywana do analizy prawdopodobieństwa przynależności do danej klasy, lub też inaczej jako klasyfikator.\n",
    "\n",
    "W takiej sytuacji zmienne zależne powinny przyjmować wyłącznie wartości $0$ i $1$ co odpowiada temu czy dany punkt należy do interesującej klasy. Model logistyczny poznwala na określenie estymaty prawdopodobieństwa, czy punkt należy czy nie do danej klasy. \n",
    "\n",
    "Do tworzenia modeli logistycznyc służy klasa: ```LogisticRegression```"
   ]
  },
  {
   "cell_type": "markdown",
   "metadata": {},
   "source": [
    "### Zadanie 3\n",
    "\n",
    "Na podstawie danych zawartych w pliku HEART.csv wykonaj i oceń regresję logistyczną, gdzie Twoją daną zależną jest kolumna \"num\". Wykonanie zadania powinno składać się z następujących kroków:\n",
    "\n",
    "1. Zaimportowanie niezbędnych bibliotek w szczególności tych tworzących modele liniowe z \"scikit-learn\", a także biblioteki do operacji na danych oraz tworzenia wykresów.\n",
    "2. Odczytanie danych z pliku HEART.csv. Pomocne w interpretacji danych są metody: head(), describe(), shape.\n",
    "3. Przetworzenie danych, tj: oznaczenie braku danych (\"?\") na NaN, usunięcię kolumn zawierających zbyt dużo brakujących danych (3 kolumny), usunięcie wierszy z brakującymi wartościami.\n",
    "4. Zakoduj niezależne zmienne kategorialne np: jako wartości \"dummy\", za pomoca metody get_dummies(). Zmienne kategorialne to takie, które reprezentuja przynależność do kategorii. W przypadku naszych odfiltrowanych danych będą to kolumny: cp, restecg, fbs, sex, exang. Jako, że trzy ostatnie już zapisane są w formie 0 i 1 tylko cp i restecg wymagają tej operacji.\n",
    "5. Dokonaj podziału danych na zbiory danych niezależnych (wejściowe, X) oraz zależnych (wyjściowe, y) dla swojego modelu, a następnie podziel zbiór na dane testowe i treningowe (20%).\n",
    "6. Utwróz model regresji logistycznej.\n",
    "7. Oceń wynik za pomocą dostępnych metryk (np: metody związane z modelem czy classification_report() z sklearn)\n",
    "\n",
    "Możesz również spróbować ustandaryzować dane (np: poprzez skalowanie) po podziale na zbiory treningowy i testowy."
   ]
  },
  {
   "cell_type": "code",
   "execution_count": 46,
   "metadata": {},
   "outputs": [
    {
     "name": "stdout",
     "output_type": "stream",
     "text": [
      "   age  sex  cp trestbps chol fbs restecg thalach exang  oldpeak slope ca  \\\n",
      "0   28    1   2      130  132   0       2     185     0      0.0     ?  ?   \n",
      "1   29    1   2      120  243   0       0     160     0      0.0     ?  ?   \n",
      "2   29    1   2      140    ?   0       0     170     0      0.0     ?  ?   \n",
      "3   30    0   1      170  237   0       1     170     0      0.0     ?  ?   \n",
      "4   31    0   2      100  219   0       1     150     0      0.0     ?  ?   \n",
      "\n",
      "  thal  num         \n",
      "0    ?           0  \n",
      "1    ?           0  \n",
      "2    ?           0  \n",
      "3    6           0  \n",
      "4    ?           0  \n",
      "              age         sex          cp     oldpeak  num       \n",
      "count  294.000000  294.000000  294.000000  294.000000  294.000000\n",
      "mean    47.826531    0.724490    2.982993    0.586054    0.360544\n",
      "std      7.811812    0.447533    0.965117    0.908648    0.480977\n",
      "min     28.000000    0.000000    1.000000    0.000000    0.000000\n",
      "25%     42.000000    0.000000    2.000000    0.000000    0.000000\n",
      "50%     49.000000    1.000000    3.000000    0.000000    0.000000\n",
      "75%     54.000000    1.000000    4.000000    1.000000    1.000000\n",
      "max     66.000000    1.000000    4.000000    5.000000    1.000000\n",
      "(294, 14)\n"
     ]
    }
   ],
   "source": [
    "data = pd.read_csv('HEART.csv')\n",
    "print(data.head(5))\n",
    "print(data.describe())\n",
    "print(data.shape)"
   ]
  },
  {
   "cell_type": "code",
   "execution_count": 47,
   "metadata": {},
   "outputs": [
    {
     "data": {
      "text/plain": [
       "age             0\n",
       "sex             0\n",
       "cp              0\n",
       "trestbps        1\n",
       "chol           23\n",
       "fbs             8\n",
       "restecg         1\n",
       "thalach         1\n",
       "exang           1\n",
       "oldpeak         0\n",
       "slope         190\n",
       "ca            291\n",
       "thal          266\n",
       "num             0\n",
       "dtype: int64"
      ]
     },
     "execution_count": 47,
     "metadata": {},
     "output_type": "execute_result"
    }
   ],
   "source": [
    "data[data == \"?\"] = np.NaN\n",
    "data.isna().sum()"
   ]
  },
  {
   "cell_type": "code",
   "execution_count": 48,
   "metadata": {},
   "outputs": [
    {
     "name": "stdout",
     "output_type": "stream",
     "text": [
      "     age  sex trestbps chol fbs thalach exang  oldpeak  num         cp_1  \\\n",
      "0     28    1      130  132   0     185     0      0.0           0     0   \n",
      "1     29    1      120  243   0     160     0      0.0           0     0   \n",
      "3     30    0      170  237   0     170     0      0.0           0     1   \n",
      "4     31    0      100  219   0     150     0      0.0           0     0   \n",
      "5     32    0      105  198   0     165     0      0.0           0     0   \n",
      "..   ...  ...      ...  ...  ..     ...   ...      ...         ...   ...   \n",
      "289   52    1      160  331   0      94     1      2.5           1     0   \n",
      "290   54    0      130  294   0     100     1      0.0           1     0   \n",
      "291   56    1      155  342   1     150     1      3.0           1     0   \n",
      "292   58    0      180  393   0     110     1      1.0           1     0   \n",
      "293   65    1      130  275   0     115     1      1.0           1     0   \n",
      "\n",
      "     cp_2  cp_3  cp_4  restecg_0  restecg_1  restecg_2  \n",
      "0       1     0     0          0          0          1  \n",
      "1       1     0     0          1          0          0  \n",
      "3       0     0     0          0          1          0  \n",
      "4       1     0     0          0          1          0  \n",
      "5       1     0     0          1          0          0  \n",
      "..    ...   ...   ...        ...        ...        ...  \n",
      "289     0     0     1          1          0          0  \n",
      "290     0     1     0          0          1          0  \n",
      "291     0     0     1          1          0          0  \n",
      "292     1     0     0          1          0          0  \n",
      "293     0     0     1          0          1          0  \n",
      "\n",
      "[261 rows x 16 columns]\n"
     ]
    }
   ],
   "source": [
    "data = data.drop(['slope', 'ca', 'thal'], axis=1)\n",
    "data = data.dropna()\n",
    "data = pd.get_dummies(data, columns = ['cp', 'restecg'])\n",
    "print(data)"
   ]
  },
  {
   "cell_type": "code",
   "execution_count": 49,
   "metadata": {},
   "outputs": [],
   "source": [
    "x = data.drop(['num       '], axis=1).to_numpy()\n",
    "y = data['num       ']\n",
    "X_train, X_test, y_train, y_test = train_test_split(x, y, test_size=0.30, random_state=20)"
   ]
  },
  {
   "cell_type": "code",
   "execution_count": 50,
   "metadata": {},
   "outputs": [],
   "source": [
    "from sklearn.linear_model import LogisticRegression\n",
    "from sklearn.pipeline import make_pipeline\n",
    "from sklearn.preprocessing import StandardScaler\n",
    "pipe = make_pipeline(StandardScaler(), LogisticRegression())\n",
    "pipe.fit(X_train, y_train)\n",
    "y_pred = pipe.predict(X_test)"
   ]
  },
  {
   "cell_type": "code",
   "execution_count": 51,
   "metadata": {},
   "outputs": [
    {
     "name": "stdout",
     "output_type": "stream",
     "text": [
      "              precision    recall  f1-score   support\n",
      "\n",
      "           0       0.86      0.88      0.87        49\n",
      "           1       0.79      0.77      0.78        30\n",
      "\n",
      "    accuracy                           0.84        79\n",
      "   macro avg       0.83      0.82      0.82        79\n",
      "weighted avg       0.83      0.84      0.83        79\n",
      "\n"
     ]
    }
   ],
   "source": [
    "from sklearn.metrics import classification_report\n",
    "print(classification_report(y_test, y_pred))"
   ]
  },
  {
   "cell_type": "markdown",
   "metadata": {},
   "source": [
    "### Uzyskany model jest dobrej jakości. Jest bardzo duży procenty danych pozytywnie pozytywnych rozpoznanych w stosunku do pozytywnie negatywnych i negatywnie negatywnych. Średnia harmoniczna też jest na bardzo wysokim poziomie [0, 1], a więc bardzo dużo danych było skutecznie prognozowanych. Błędy średnie są na niskim poziomie co tylko potwierdza dobrą jakość tego modelu."
   ]
  }
 ],
 "metadata": {
  "kernelspec": {
   "display_name": "Python 3",
   "language": "python",
   "name": "python3"
  },
  "language_info": {
   "codemirror_mode": {
    "name": "ipython",
    "version": 3
   },
   "file_extension": ".py",
   "mimetype": "text/x-python",
   "name": "python",
   "nbconvert_exporter": "python",
   "pygments_lexer": "ipython3",
   "version": "3.9.6"
  }
 },
 "nbformat": 4,
 "nbformat_minor": 4
}
