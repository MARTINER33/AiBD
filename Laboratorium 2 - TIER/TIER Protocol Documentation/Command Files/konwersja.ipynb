{
 "cells": [
  {
   "cell_type": "markdown",
   "metadata": {},
   "source": [
    "## Marcin Piątek 400038 Lab 2"
   ]
  },
  {
   "cell_type": "markdown",
   "metadata": {},
   "source": [
    "### Import danych"
   ]
  },
  {
   "cell_type": "code",
   "execution_count": 12,
   "metadata": {},
   "outputs": [
    {
     "name": "stdout",
     "output_type": "stream",
     "text": [
      "<class 'pandas.core.frame.DataFrame'>\n",
      "RangeIndex: 5769 entries, 0 to 5768\n",
      "Data columns (total 24 columns):\n",
      " #   Column        Non-Null Count  Dtype  \n",
      "---  ------        --------------  -----  \n",
      " 0   Unnamed: 0    5769 non-null   int64  \n",
      " 1   iso2          5746 non-null   object \n",
      " 2   year          5769 non-null   int64  \n",
      " 3   new_sp        3081 non-null   float64\n",
      " 4   new_sp_m04    392 non-null    float64\n",
      " 5   new_sp_m514   401 non-null    float64\n",
      " 6   new_sp_m014   2381 non-null   float64\n",
      " 7   new_sp_m1524  2407 non-null   float64\n",
      " 8   new_sp_m2534  2408 non-null   float64\n",
      " 9   new_sp_m3544  2415 non-null   float64\n",
      " 10  new_sp_m4554  2421 non-null   float64\n",
      " 11  new_sp_m5564  2414 non-null   float64\n",
      " 12  new_sp_m65    2408 non-null   float64\n",
      " 13  new_sp_mu     273 non-null    float64\n",
      " 14  new_sp_f04    393 non-null    float64\n",
      " 15  new_sp_f514   404 non-null    float64\n",
      " 16  new_sp_f014   2378 non-null   float64\n",
      " 17  new_sp_f1524  2394 non-null   float64\n",
      " 18  new_sp_f2534  2400 non-null   float64\n",
      " 19  new_sp_f3544  2398 non-null   float64\n",
      " 20  new_sp_f4554  2401 non-null   float64\n",
      " 21  new_sp_f5564  2394 non-null   float64\n",
      " 22  new_sp_f65    2396 non-null   float64\n",
      " 23  new_sp_fu     272 non-null    float64\n",
      "dtypes: float64(21), int64(2), object(1)\n",
      "memory usage: 1.1+ MB\n"
     ]
    }
   ],
   "source": [
    "import pandas as pd\n",
    "data = pd.read_csv('../Original Data/tb.csv')\n",
    "data.info()"
   ]
  },
  {
   "cell_type": "markdown",
   "metadata": {},
   "source": [
    "## Tidy Data"
   ]
  },
  {
   "cell_type": "code",
   "execution_count": 11,
   "metadata": {},
   "outputs": [
    {
     "name": "stdout",
     "output_type": "stream",
     "text": [
      "  kraj płeć wiek   rok  wystąpień\n",
      "0   AD    m  0-4  1989        NaN\n",
      "1   AD    m  0-4  1990        NaN\n",
      "2   AD    m  0-4  1991        NaN\n",
      "3   AD    m  0-4  1992        NaN\n",
      "4   AD    m  0-4  1993        NaN\n",
      "5   AD    m  0-4  1994        NaN\n",
      "6   AD    m  0-4  1996        NaN\n",
      "7   AD    m  0-4  1997        NaN\n",
      "8   AD    m  0-4  1998        NaN\n",
      "9   AD    m  0-4  1999        NaN\n",
      "       kraj płeć wiek   rok  wystąpień\n",
      "103832   ZW    f  65+  1999        NaN\n",
      "103833   ZW    f  65+  2000        NaN\n",
      "103834   ZW    f  65+  2001        NaN\n",
      "103835   ZW    f  65+  2002       65.0\n",
      "103836   ZW    f  65+  2003      114.0\n",
      "103837   ZW    f  65+  2004      111.0\n",
      "103838   ZW    f  65+  2005      603.0\n",
      "103839   ZW    f  65+  2006       96.0\n",
      "103840   ZW    f  65+  2007       90.0\n",
      "103841   ZW    f  65+  2008      105.0\n"
     ]
    }
   ],
   "source": [
    "data.drop(columns=['Unnamed: 0','new_sp_mu','new_sp_fu','new_sp'], inplace=True)\n",
    "data.rename(columns={'iso2':'kraj','year':'rok'}, inplace=True)\n",
    "\n",
    "\n",
    "data = pd.melt(data, id_vars = ['kraj', 'rok'],var_name='mix', value_name='wystąpień')\n",
    "data.head()\n",
    "\n",
    "data = data[data['wystąpień'] != '---']\n",
    "data['płeć'] = data['mix'].str[7]\n",
    "data['wiek'] = data['mix'].str[8:].map({\n",
    "    '04': '0-4',\n",
    "    '514': '5-14',\n",
    "    '014': '0-14',\n",
    "    '1524': '15-24',\n",
    "    '2534': '25-34',\n",
    "    '3544': '35-44',\n",
    "    '4554': '45-54',\n",
    "    '5564': '55-64',\n",
    "    '65': '65+'\n",
    "})\n",
    "data.drop(columns=['mix'], inplace=True)\n",
    "\n",
    "data = data[['kraj','płeć', 'wiek', 'rok', 'wystąpień']]\n",
    "\n",
    "print(data.head(10))\n",
    "print(data.tail(10))"
   ]
  },
  {
   "cell_type": "markdown",
   "metadata": {},
   "source": [
    "## Zapis uporządkwaych danych"
   ]
  },
  {
   "cell_type": "code",
   "execution_count": null,
   "metadata": {},
   "outputs": [],
   "source": [
    "data.dropna(inplace=True) \n",
    "data.to_csv('../Analysis Data/tb_tidy.csv', index=False)"
   ]
  }
 ],
 "metadata": {
  "interpreter": {
   "hash": "33dc6d49505b4536b6a128d9d7c879e1fa44477ad44947bbbe73093067fe6393"
  },
  "kernelspec": {
   "display_name": "Python 3.9.7 64-bit",
   "name": "python3"
  },
  "language_info": {
   "codemirror_mode": {
    "name": "ipython",
    "version": 3
   },
   "file_extension": ".py",
   "mimetype": "text/x-python",
   "name": "python",
   "nbconvert_exporter": "python",
   "pygments_lexer": "ipython3",
   "version": "3.9.7"
  }
 },
 "nbformat": 4,
 "nbformat_minor": 5
}
