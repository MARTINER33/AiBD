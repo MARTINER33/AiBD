{
 "cells": [
  {
   "cell_type": "markdown",
   "metadata": {},
   "source": [
    "Marcin Piątek"
   ]
  },
  {
   "cell_type": "code",
   "execution_count": 1,
   "metadata": {},
   "outputs": [],
   "source": [
    "import pandas as pd\n"
   ]
  },
  {
   "cell_type": "code",
   "execution_count": 5,
   "metadata": {},
   "outputs": [
    {
     "name": "stdout",
     "output_type": "stream",
     "text": [
      "    kraj płeć wiek   rok  wystąpień\n",
      "15    AD    m  0-4  2005        0.0\n",
      "16    AD    m  0-4  2006        0.0\n",
      "18    AD    m  0-4  2008        0.0\n",
      "42    AE    m  0-4  2006        0.0\n",
      "43    AE    m  0-4  2007        0.0\n",
      "44    AE    m  0-4  2008        0.0\n",
      "94    AG    m  0-4  2007        0.0\n",
      "141   AL    m  0-4  2005        0.0\n",
      "142   AL    m  0-4  2006        1.0\n",
      "143   AL    m  0-4  2007        0.0\n",
      "144   AL    m  0-4  2008        1.0\n",
      "170   AM    m  0-4  2005        1.0\n",
      "171   AM    m  0-4  2006        0.0\n",
      "172   AM    m  0-4  2007        0.0\n",
      "173   AM    m  0-4  2008        0.0\n",
      "       kraj płeć wiek   rok  wystąpień\n",
      "103804   ZM    f  65+  2000       75.0\n",
      "103806   ZM    f  65+  2002      197.0\n",
      "103807   ZM    f  65+  2003      243.0\n",
      "103808   ZM    f  65+  2004      192.0\n",
      "103809   ZM    f  65+  2005      185.0\n",
      "103810   ZM    f  65+  2006      122.0\n",
      "103811   ZM    f  65+  2007      131.0\n",
      "103812   ZM    f  65+  2008      115.0\n",
      "103835   ZW    f  65+  2002       65.0\n",
      "103836   ZW    f  65+  2003      114.0\n",
      "103837   ZW    f  65+  2004      111.0\n",
      "103838   ZW    f  65+  2005      603.0\n",
      "103839   ZW    f  65+  2006       96.0\n",
      "103840   ZW    f  65+  2007       90.0\n",
      "103841   ZW    f  65+  2008      105.0\n"
     ]
    }
   ],
   "source": [
    "data = pd.read_csv('../Analysis Data/tb_new.csv')\n",
    "\n",
    "data.drop(columns=['Unnamed: 0','new_sp_mu','new_sp_fu','new_sp'], inplace=True)\n",
    "data.rename(columns={'iso2':'kraj','year':'rok'}, inplace=True)\n",
    "\n",
    "\n",
    "data = pd.melt(data, id_vars = ['kraj', 'rok'],var_name='mix', value_name='wystąpień')\n",
    "data.head()\n",
    "\n",
    "data = data[data['wystąpień'] != '---']\n",
    "data['płeć'] = data['mix'].str[7]\n",
    "data['wiek'] = data['mix'].str[8:].map({\n",
    "    '04': '0-4',\n",
    "    '514': '5-14',\n",
    "    '014': '0-14',\n",
    "    '1524': '15-24',\n",
    "    '2534': '25-34',\n",
    "    '3544': '35-44',\n",
    "    '4554': '45-54',\n",
    "    '5564': '55-64',\n",
    "    '65': '65+'\n",
    "})\n",
    "data.drop(columns=['mix'], inplace=True)\n",
    "\n",
    "data = data[['kraj','płeć', 'wiek', 'rok', 'wystąpień']]\n",
    "data.dropna(inplace=True) \n",
    "data.to_csv('../Analysis Data/tb_tidy.csv', index=False)\n",
    "print(data.head(15))\n",
    "print(data.tail(15))"
   ]
  }
 ],
 "metadata": {
  "interpreter": {
   "hash": "33dc6d49505b4536b6a128d9d7c879e1fa44477ad44947bbbe73093067fe6393"
  },
  "kernelspec": {
   "display_name": "Python 3.9.7 64-bit",
   "name": "python3"
  },
  "language_info": {
   "codemirror_mode": {
    "name": "ipython",
    "version": 3
   },
   "file_extension": ".py",
   "mimetype": "text/x-python",
   "name": "python",
   "nbconvert_exporter": "python",
   "pygments_lexer": "ipython3",
   "version": "3.9.7"
  }
 },
 "nbformat": 4,
 "nbformat_minor": 5
}
